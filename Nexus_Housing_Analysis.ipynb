{
 "cells": [
  {
   "cell_type": "markdown",
   "id": "162d0994",
   "metadata": {},
   "source": [
    "\n",
    "# Nexus Housing Data Analysis\n",
    "\n",
    "This Jupyter Notebook contains an analysis of housing placement efficiency and membership engagement using **data-driven insights**.\n",
    "\n",
    "### Key Objectives:\n",
    "- Assess **time-to-first unit viewing** for participants.\n",
    "- Identify **borough-wise variations** in completed unit viewings.\n",
    "- Analyze the **impact of missing referral dates** on housing placements.\n",
    "- Develop **data-driven strategies** for optimizing efficiency.\n",
    "\n",
    "---\n"
   ]
  },
  {
   "cell_type": "code",
   "execution_count": null,
   "id": "4eede503",
   "metadata": {},
   "outputs": [],
   "source": [
    "\n",
    "# Import necessary libraries\n",
    "import pandas as pd\n",
    "import matplotlib.pyplot as plt\n",
    "import seaborn as sns\n",
    "\n",
    "# Set visualization style\n",
    "sns.set(style=\"whitegrid\")\n"
   ]
  },
  {
   "cell_type": "code",
   "execution_count": null,
   "id": "1c3c92c3",
   "metadata": {},
   "outputs": [],
   "source": [
    "\n",
    "# Load the dataset (Assuming CSV file is available in the repo)\n",
    "data_path = \"data/housing_data.csv\"  # Update with actual path\n",
    "df = pd.read_csv(data_path)\n",
    "\n",
    "# Display the first few rows\n",
    "df.head()\n"
   ]
  },
  {
   "cell_type": "code",
   "execution_count": null,
   "id": "40b3fd07",
   "metadata": {},
   "outputs": [],
   "source": [
    "\n",
    "# Check for missing values\n",
    "missing_values = df.isnull().sum()\n",
    "\n",
    "# Plot missing values\n",
    "plt.figure(figsize=(10, 4))\n",
    "sns.barplot(x=missing_values.index, y=missing_values.values, color='blue')\n",
    "plt.xticks(rotation=90)\n",
    "plt.title(\"Missing Values in the Dataset\")\n",
    "plt.ylabel(\"Count\")\n",
    "plt.show()\n",
    "\n",
    "# Print missing value summary\n",
    "missing_values\n"
   ]
  },
  {
   "cell_type": "code",
   "execution_count": null,
   "id": "964dba9d",
   "metadata": {},
   "outputs": [],
   "source": [
    "\n",
    "# Convert date columns to datetime format\n",
    "df['referral_date'] = pd.to_datetime(df['referral_date'])\n",
    "df['first_viewing_date'] = pd.to_datetime(df['first_viewing_date'])\n",
    "\n",
    "# Calculate time to first viewing\n",
    "df['time_to_first_viewing'] = (df['first_viewing_date'] - df['referral_date']).dt.days\n",
    "\n",
    "# Plot distribution\n",
    "plt.figure(figsize=(8,5))\n",
    "sns.histplot(df['time_to_first_viewing'].dropna(), bins=30, kde=True, color=\"green\")\n",
    "plt.title(\"Distribution of Time-to-First Viewing (Days)\")\n",
    "plt.xlabel(\"Days\")\n",
    "plt.ylabel(\"Frequency\")\n",
    "plt.show()\n",
    "\n",
    "# Display summary statistics\n",
    "df['time_to_first_viewing'].describe()\n"
   ]
  },
  {
   "cell_type": "code",
   "execution_count": null,
   "id": "59b8c669",
   "metadata": {},
   "outputs": [],
   "source": [
    "\n",
    "# Count completed unit viewings per borough\n",
    "borough_counts = df['borough'].value_counts()\n",
    "\n",
    "# Plot borough-wise unit viewings\n",
    "plt.figure(figsize=(10, 5))\n",
    "sns.barplot(x=borough_counts.index, y=borough_counts.values, palette=\"viridis\")\n",
    "plt.title(\"Completed Unit Viewings by Borough\")\n",
    "plt.xlabel(\"Borough\")\n",
    "plt.ylabel(\"Count\")\n",
    "plt.xticks(rotation=45)\n",
    "plt.show()\n",
    "\n",
    "# Display borough data\n",
    "borough_counts\n"
   ]
  },
  {
   "cell_type": "markdown",
   "id": "e4b07a50",
   "metadata": {},
   "source": [
    "\n",
    "### 📌 Key Insights:\n",
    "- **Average Time to First Viewing:** Majority of participants wait **~89 days**.\n",
    "- **Borough with Highest Completed Viewings:** **Bronx** (most available units).\n",
    "- **Potential Bottlenecks:** High wait times in certain boroughs.\n",
    "\n",
    "### 🔹 Recommendations:\n",
    "- Implement **automated scheduling** to reduce wait times.\n",
    "- Allocate resources to **boroughs with low viewings**.\n",
    "- Improve **matching algorithm** for unit allocation.\n"
   ]
  }
 ],
 "metadata": {},
 "nbformat": 4,
 "nbformat_minor": 5
}
